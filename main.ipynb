{
 "cells": [
  {
   "cell_type": "code",
   "execution_count": 19,
   "metadata": {},
   "outputs": [],
   "source": [
    "import pandas as pd\n",
    "from sklearn.preprocessing import LabelEncoder"
   ]
  },
  {
   "cell_type": "code",
   "execution_count": 20,
   "metadata": {},
   "outputs": [
    {
     "name": "stdout",
     "output_type": "stream",
     "text": [
      "['0' 'a' 'c' 'b']\n"
     ]
    }
   ],
   "source": [
    "sales_data = pd.read_csv(\"./data/sales.csv\")\n",
    "sales_data.head()\n",
    "\n",
    "print(sales_data.state_holiday.unique())\n",
    "\n",
    "le = LabelEncoder()\n",
    "sales_data.state_holiday = le.fit_transform(sales_data.state_holiday)"
   ]
  },
  {
   "cell_type": "code",
   "execution_count": 22,
   "metadata": {},
   "outputs": [
    {
     "name": "stdout",
     "output_type": "stream",
     "text": [
      "Unnamed: 0              int64\n",
      "store_ID                int64\n",
      "day_of_week             int64\n",
      "date                   object\n",
      "nb_customers_on_day     int64\n",
      "open                    int64\n",
      "promotion               int64\n",
      "state_holiday           int64\n",
      "school_holiday          int64\n",
      "sales                   int64\n",
      "dtype: object\n"
     ]
    }
   ],
   "source": [
    "sales_data.head()\n",
    "\n",
    "print(sales_data.dtypes)"
   ]
  }
 ],
 "metadata": {
  "kernelspec": {
   "display_name": "ironhack",
   "language": "python",
   "name": "python3"
  },
  "language_info": {
   "codemirror_mode": {
    "name": "ipython",
    "version": 3
   },
   "file_extension": ".py",
   "mimetype": "text/x-python",
   "name": "python",
   "nbconvert_exporter": "python",
   "pygments_lexer": "ipython3",
   "version": "3.13.3"
  }
 },
 "nbformat": 4,
 "nbformat_minor": 2
}

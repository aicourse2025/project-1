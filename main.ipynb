{
 "cells": [
  {
   "cell_type": "code",
   "execution_count": 19,
   "metadata": {},
   "outputs": [],
   "source": [
    "import pandas as pd\n",
    "from sklearn.preprocessing import LabelEncoder"
   ]
  },
  {
   "cell_type": "code",
   "execution_count": 20,
   "metadata": {},
   "outputs": [
    {
     "name": "stdout",
     "output_type": "stream",
     "text": [
      "['0' 'a' 'c' 'b']\n"
     ]
    }
   ],
   "source": [
    "sales_data = pd.read_csv(\"./data/sales.csv\")\n",
    "sales_data.head()\n",
    "\n",
    "print(sales_data.state_holiday.unique())\n",
    "\n",
    "le = LabelEncoder()\n",
    "sales_data.state_holiday = le.fit_transform(sales_data.state_holiday)"
   ]
  },
  {
   "cell_type": "code",
   "execution_count": 22,
   "metadata": {},
   "outputs": [
    {
     "name": "stdout",
     "output_type": "stream",
     "text": [
      "Unnamed: 0              int64\n",
      "store_ID                int64\n",
      "day_of_week             int64\n",
      "date                   object\n",
      "nb_customers_on_day     int64\n",
      "open                    int64\n",
      "promotion               int64\n",
      "state_holiday           int64\n",
      "school_holiday          int64\n",
      "sales                   int64\n",
      "dtype: object\n"
     ]
    }
   ],
   "source": [
    "sales_data.head()\n",
    "\n",
    "print(sales_data.dtypes)"
   ]
  },
  {
   "cell_type": "markdown",
   "metadata": {},
   "source": [
    "## Handle date column"
   ]
  },
  {
   "cell_type": "code",
   "execution_count": 26,
   "metadata": {},
   "outputs": [
    {
     "name": "stdout",
     "output_type": "stream",
     "text": [
      "   Unnamed: 0  store_ID  day_of_week  nb_customers_on_day  open  promotion  \\\n",
      "0      425390       366            4                  517     1          0   \n",
      "1      291687       394            6                  694     1          0   \n",
      "2      411278       807            4                  970     1          1   \n",
      "3      664714       802            2                  473     1          1   \n",
      "4      540835       726            4                 1068     1          1   \n",
      "\n",
      "   state_holiday  school_holiday  sales  month  year  \n",
      "0              0               0   4422      4  2013  \n",
      "1              0               0   8297      4  2015  \n",
      "2              0               0   9729      8  2013  \n",
      "3              0               0   6513      5  2013  \n",
      "4              0               0  10882     10  2013  \n"
     ]
    }
   ],
   "source": [
    "sales_data.date = pd.to_datetime(sales_data.date)\n",
    "sales_data[\"month\"] = sales_data.date.dt.month\n",
    "sales_data[\"year\"] = sales_data.date.dt.year\n",
    "\n",
    "sales_data.drop(columns=[\"date\"], inplace=True)\n",
    "\n",
    "print(sales_data.head())"
   ]
  },
  {
   "cell_type": "markdown",
   "metadata": {},
   "source": [
    "## Set missing index name"
   ]
  },
  {
   "cell_type": "code",
   "execution_count": 32,
   "metadata": {},
   "outputs": [],
   "source": [
    "sales_data.rename(columns={sales_data.columns[0]: 'index'}, inplace=True)"
   ]
  },
  {
   "cell_type": "markdown",
   "metadata": {},
   "source": [
    "## Check missing values"
   ]
  },
  {
   "cell_type": "code",
   "execution_count": 33,
   "metadata": {},
   "outputs": [
    {
     "name": "stdout",
     "output_type": "stream",
     "text": [
      "index                  0\n",
      "store_ID               0\n",
      "day_of_week            0\n",
      "nb_customers_on_day    0\n",
      "open                   0\n",
      "promotion              0\n",
      "state_holiday          0\n",
      "school_holiday         0\n",
      "sales                  0\n",
      "month                  0\n",
      "year                   0\n",
      "dtype: int64\n"
     ]
    }
   ],
   "source": [
    "print(sales_data.isnull().sum())"
   ]
  }
 ],
 "metadata": {
  "kernelspec": {
   "display_name": "ironhack",
   "language": "python",
   "name": "python3"
  },
  "language_info": {
   "codemirror_mode": {
    "name": "ipython",
    "version": 3
   },
   "file_extension": ".py",
   "mimetype": "text/x-python",
   "name": "python",
   "nbconvert_exporter": "python",
   "pygments_lexer": "ipython3",
   "version": "3.13.3"
  }
 },
 "nbformat": 4,
 "nbformat_minor": 2
}

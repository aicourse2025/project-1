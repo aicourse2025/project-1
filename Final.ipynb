{
 "cells": [
  {
   "cell_type": "code",
   "execution_count": 4,
   "id": "fd581bdd",
   "metadata": {},
   "outputs": [
    {
     "name": "stdout",
     "output_type": "stream",
     "text": [
      "0.9448832749314857\n"
     ]
    }
   ],
   "source": [
    "import pandas as pd\n",
    "from sklearn.preprocessing import LabelEncoder\n",
    "import matplotlib.pyplot as plt\n",
    "import seaborn as sns\n",
    "from sklearn.linear_model import LinearRegression\n",
    "from sklearn.model_selection import train_test_split\n",
    "from sklearn.metrics import r2_score\n",
    "import numpy as np\n",
    "from sklearn.preprocessing import StandardScaler\n",
    "from sklearn.ensemble import RandomForestRegressor\n",
    "from sklearn.model_selection import RandomizedSearchCV\n",
    "from xgboost import XGBRegressor\n",
    "\n",
    "sales_data = pd.read_csv(\"./data/sales.csv\")\n",
    "\n",
    "le = LabelEncoder()\n",
    "sales_data.state_holiday = le.fit_transform(sales_data.state_holiday)\n",
    "\n",
    "sales_data.date = pd.to_datetime(sales_data.date)\n",
    "sales_data[\"month\"] = sales_data.date.dt.month\n",
    "sales_data[\"year\"] = sales_data.date.dt.year\n",
    "\n",
    "sales_data.drop(columns=[\"date\"], inplace=True)\n",
    "\n",
    "sales_data.rename(columns={sales_data.columns[0]: 'index'}, inplace=True)\n",
    "\n",
    "scalar = StandardScaler()\n",
    "X_scaled = scalar.fit_transform(sales_data)\n",
    "\n",
    "sales_data_scaled = pd.DataFrame(X_scaled, columns=sales_data.columns)\n",
    "\n",
    "y = sales_data_scaled.sales\n",
    "X = sales_data_scaled.drop(columns=[\"sales\"], axis=1)\n",
    "\n",
    "X_train, X_test, y_train, y_test = train_test_split(X, y, test_size=.2, random_state=0)\n",
    "\n",
    "rf_model = XGBRegressor(subsample=0.8, reg_lambda=1, reg_alpha=0, n_jobs=-1, n_estimators=500, max_depth=8, learning_rate=0.1, gamma=0, colsample_bytree=1.0).fit(X_train, y_train) \n",
    "y_test_pred_rf = rf_model.predict(X_test)\n",
    "\n",
    "r2_score_test_rf = r2_score(y_test, y_test_pred_rf)\n",
    "\n",
    "print(r2_score_test_rf)\n",
    "\n"
   ]
  }
 ],
 "metadata": {
  "kernelspec": {
   "display_name": "Python 3",
   "language": "python",
   "name": "python3"
  },
  "language_info": {
   "codemirror_mode": {
    "name": "ipython",
    "version": 3
   },
   "file_extension": ".py",
   "mimetype": "text/x-python",
   "name": "python",
   "nbconvert_exporter": "python",
   "pygments_lexer": "ipython3",
   "version": "3.13.3"
  }
 },
 "nbformat": 4,
 "nbformat_minor": 5
}
